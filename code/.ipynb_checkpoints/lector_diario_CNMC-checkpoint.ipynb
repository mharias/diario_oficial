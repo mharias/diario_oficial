{
 "cells": [
  {
   "cell_type": "code",
   "execution_count": 1,
   "metadata": {},
   "outputs": [],
   "source": [
    "from google.cloud import logging"
   ]
  },
  {
   "cell_type": "code",
   "execution_count": 2,
   "metadata": {},
   "outputs": [
    {
     "ename": "DefaultCredentialsError",
     "evalue": "Could not automatically determine credentials. Please set GOOGLE_APPLICATION_CREDENTIALS or explicitly create credentials and re-run the application. For more information, please see https://cloud.google.com/docs/authentication/getting-started",
     "output_type": "error",
     "traceback": [
      "\u001b[0;31m---------------------------------------------------------------------------\u001b[0m",
      "\u001b[0;31mDefaultCredentialsError\u001b[0m                   Traceback (most recent call last)",
      "\u001b[0;32m<ipython-input-2-a785e85b456f>\u001b[0m in \u001b[0;36m<module>\u001b[0;34m\u001b[0m\n\u001b[0;32m----> 1\u001b[0;31m \u001b[0mlogging_client\u001b[0m \u001b[0;34m=\u001b[0m \u001b[0mlogging\u001b[0m\u001b[0;34m.\u001b[0m\u001b[0mClient\u001b[0m\u001b[0;34m(\u001b[0m\u001b[0;34m)\u001b[0m\u001b[0;34m\u001b[0m\u001b[0;34m\u001b[0m\u001b[0m\n\u001b[0m\u001b[1;32m      2\u001b[0m \u001b[0mlogger\u001b[0m \u001b[0;34m=\u001b[0m \u001b[0mlogging_client\u001b[0m\u001b[0;34m.\u001b[0m\u001b[0mlogger\u001b[0m\u001b[0;34m(\u001b[0m\u001b[0;34m'CNMC_RSS'\u001b[0m\u001b[0;34m)\u001b[0m\u001b[0;34m\u001b[0m\u001b[0;34m\u001b[0m\u001b[0m\n",
      "\u001b[0;32m/opt/anaconda3/envs/CoVid/lib/python3.8/site-packages/google/cloud/logging_v2/client.py\u001b[0m in \u001b[0;36m__init__\u001b[0;34m(self, project, credentials, _http, _use_grpc, client_info, client_options)\u001b[0m\n\u001b[1;32m    120\u001b[0m                 \u001b[0mon\u001b[0m \u001b[0mthe\u001b[0m \u001b[0mclient\u001b[0m\u001b[0;34m.\u001b[0m \u001b[0mAPI\u001b[0m \u001b[0mEndpoint\u001b[0m \u001b[0mshould\u001b[0m \u001b[0mbe\u001b[0m \u001b[0mset\u001b[0m \u001b[0mthrough\u001b[0m \u001b[0mclient_options\u001b[0m\u001b[0;34m.\u001b[0m\u001b[0;34m\u001b[0m\u001b[0;34m\u001b[0m\u001b[0m\n\u001b[1;32m    121\u001b[0m             \"\"\"\n\u001b[0;32m--> 122\u001b[0;31m         super(Client, self).__init__(\n\u001b[0m\u001b[1;32m    123\u001b[0m             \u001b[0mproject\u001b[0m\u001b[0;34m=\u001b[0m\u001b[0mproject\u001b[0m\u001b[0;34m,\u001b[0m\u001b[0;34m\u001b[0m\u001b[0;34m\u001b[0m\u001b[0m\n\u001b[1;32m    124\u001b[0m             \u001b[0mcredentials\u001b[0m\u001b[0;34m=\u001b[0m\u001b[0mcredentials\u001b[0m\u001b[0;34m,\u001b[0m\u001b[0;34m\u001b[0m\u001b[0;34m\u001b[0m\u001b[0m\n",
      "\u001b[0;32m/opt/anaconda3/envs/CoVid/lib/python3.8/site-packages/google/cloud/client.py\u001b[0m in \u001b[0;36m__init__\u001b[0;34m(self, project, credentials, client_options, _http)\u001b[0m\n\u001b[1;32m    316\u001b[0m \u001b[0;34m\u001b[0m\u001b[0m\n\u001b[1;32m    317\u001b[0m     \u001b[0;32mdef\u001b[0m \u001b[0m__init__\u001b[0m\u001b[0;34m(\u001b[0m\u001b[0mself\u001b[0m\u001b[0;34m,\u001b[0m \u001b[0mproject\u001b[0m\u001b[0;34m=\u001b[0m\u001b[0;32mNone\u001b[0m\u001b[0;34m,\u001b[0m \u001b[0mcredentials\u001b[0m\u001b[0;34m=\u001b[0m\u001b[0;32mNone\u001b[0m\u001b[0;34m,\u001b[0m \u001b[0mclient_options\u001b[0m\u001b[0;34m=\u001b[0m\u001b[0;32mNone\u001b[0m\u001b[0;34m,\u001b[0m \u001b[0m_http\u001b[0m\u001b[0;34m=\u001b[0m\u001b[0;32mNone\u001b[0m\u001b[0;34m)\u001b[0m\u001b[0;34m:\u001b[0m\u001b[0;34m\u001b[0m\u001b[0;34m\u001b[0m\u001b[0m\n\u001b[0;32m--> 318\u001b[0;31m         \u001b[0m_ClientProjectMixin\u001b[0m\u001b[0;34m.\u001b[0m\u001b[0m__init__\u001b[0m\u001b[0;34m(\u001b[0m\u001b[0mself\u001b[0m\u001b[0;34m,\u001b[0m \u001b[0mproject\u001b[0m\u001b[0;34m=\u001b[0m\u001b[0mproject\u001b[0m\u001b[0;34m,\u001b[0m \u001b[0mcredentials\u001b[0m\u001b[0;34m=\u001b[0m\u001b[0mcredentials\u001b[0m\u001b[0;34m)\u001b[0m\u001b[0;34m\u001b[0m\u001b[0;34m\u001b[0m\u001b[0m\n\u001b[0m\u001b[1;32m    319\u001b[0m         Client.__init__(\n\u001b[1;32m    320\u001b[0m             \u001b[0mself\u001b[0m\u001b[0;34m,\u001b[0m \u001b[0mcredentials\u001b[0m\u001b[0;34m=\u001b[0m\u001b[0mcredentials\u001b[0m\u001b[0;34m,\u001b[0m \u001b[0mclient_options\u001b[0m\u001b[0;34m=\u001b[0m\u001b[0mclient_options\u001b[0m\u001b[0;34m,\u001b[0m \u001b[0m_http\u001b[0m\u001b[0;34m=\u001b[0m\u001b[0m_http\u001b[0m\u001b[0;34m\u001b[0m\u001b[0;34m\u001b[0m\u001b[0m\n",
      "\u001b[0;32m/opt/anaconda3/envs/CoVid/lib/python3.8/site-packages/google/cloud/client.py\u001b[0m in \u001b[0;36m__init__\u001b[0;34m(self, project, credentials)\u001b[0m\n\u001b[1;32m    264\u001b[0m \u001b[0;34m\u001b[0m\u001b[0m\n\u001b[1;32m    265\u001b[0m         \u001b[0;32mif\u001b[0m \u001b[0mproject\u001b[0m \u001b[0;32mis\u001b[0m \u001b[0;32mNone\u001b[0m\u001b[0;34m:\u001b[0m\u001b[0;34m\u001b[0m\u001b[0;34m\u001b[0m\u001b[0m\n\u001b[0;32m--> 266\u001b[0;31m             \u001b[0mproject\u001b[0m \u001b[0;34m=\u001b[0m \u001b[0mself\u001b[0m\u001b[0;34m.\u001b[0m\u001b[0m_determine_default\u001b[0m\u001b[0;34m(\u001b[0m\u001b[0mproject\u001b[0m\u001b[0;34m)\u001b[0m\u001b[0;34m\u001b[0m\u001b[0;34m\u001b[0m\u001b[0m\n\u001b[0m\u001b[1;32m    267\u001b[0m \u001b[0;34m\u001b[0m\u001b[0m\n\u001b[1;32m    268\u001b[0m         \u001b[0;32mif\u001b[0m \u001b[0mproject\u001b[0m \u001b[0;32mis\u001b[0m \u001b[0;32mNone\u001b[0m\u001b[0;34m:\u001b[0m\u001b[0;34m\u001b[0m\u001b[0;34m\u001b[0m\u001b[0m\n",
      "\u001b[0;32m/opt/anaconda3/envs/CoVid/lib/python3.8/site-packages/google/cloud/client.py\u001b[0m in \u001b[0;36m_determine_default\u001b[0;34m(project)\u001b[0m\n\u001b[1;32m    283\u001b[0m     \u001b[0;32mdef\u001b[0m \u001b[0m_determine_default\u001b[0m\u001b[0;34m(\u001b[0m\u001b[0mproject\u001b[0m\u001b[0;34m)\u001b[0m\u001b[0;34m:\u001b[0m\u001b[0;34m\u001b[0m\u001b[0;34m\u001b[0m\u001b[0m\n\u001b[1;32m    284\u001b[0m         \u001b[0;34m\"\"\"Helper:  use default project detection.\"\"\"\u001b[0m\u001b[0;34m\u001b[0m\u001b[0;34m\u001b[0m\u001b[0m\n\u001b[0;32m--> 285\u001b[0;31m         \u001b[0;32mreturn\u001b[0m \u001b[0m_determine_default_project\u001b[0m\u001b[0;34m(\u001b[0m\u001b[0mproject\u001b[0m\u001b[0;34m)\u001b[0m\u001b[0;34m\u001b[0m\u001b[0;34m\u001b[0m\u001b[0m\n\u001b[0m\u001b[1;32m    286\u001b[0m \u001b[0;34m\u001b[0m\u001b[0m\n\u001b[1;32m    287\u001b[0m \u001b[0;34m\u001b[0m\u001b[0m\n",
      "\u001b[0;32m/opt/anaconda3/envs/CoVid/lib/python3.8/site-packages/google/cloud/_helpers.py\u001b[0m in \u001b[0;36m_determine_default_project\u001b[0;34m(project)\u001b[0m\n\u001b[1;32m    184\u001b[0m     \"\"\"\n\u001b[1;32m    185\u001b[0m     \u001b[0;32mif\u001b[0m \u001b[0mproject\u001b[0m \u001b[0;32mis\u001b[0m \u001b[0;32mNone\u001b[0m\u001b[0;34m:\u001b[0m\u001b[0;34m\u001b[0m\u001b[0;34m\u001b[0m\u001b[0m\n\u001b[0;32m--> 186\u001b[0;31m         \u001b[0m_\u001b[0m\u001b[0;34m,\u001b[0m \u001b[0mproject\u001b[0m \u001b[0;34m=\u001b[0m \u001b[0mgoogle\u001b[0m\u001b[0;34m.\u001b[0m\u001b[0mauth\u001b[0m\u001b[0;34m.\u001b[0m\u001b[0mdefault\u001b[0m\u001b[0;34m(\u001b[0m\u001b[0;34m)\u001b[0m\u001b[0;34m\u001b[0m\u001b[0;34m\u001b[0m\u001b[0m\n\u001b[0m\u001b[1;32m    187\u001b[0m     \u001b[0;32mreturn\u001b[0m \u001b[0mproject\u001b[0m\u001b[0;34m\u001b[0m\u001b[0;34m\u001b[0m\u001b[0m\n\u001b[1;32m    188\u001b[0m \u001b[0;34m\u001b[0m\u001b[0m\n",
      "\u001b[0;32m/opt/anaconda3/envs/CoVid/lib/python3.8/site-packages/google/auth/_default.py\u001b[0m in \u001b[0;36mdefault\u001b[0;34m(scopes, request, quota_project_id, default_scopes)\u001b[0m\n\u001b[1;32m    481\u001b[0m             \u001b[0;32mreturn\u001b[0m \u001b[0mcredentials\u001b[0m\u001b[0;34m,\u001b[0m \u001b[0meffective_project_id\u001b[0m\u001b[0;34m\u001b[0m\u001b[0;34m\u001b[0m\u001b[0m\n\u001b[1;32m    482\u001b[0m \u001b[0;34m\u001b[0m\u001b[0m\n\u001b[0;32m--> 483\u001b[0;31m     \u001b[0;32mraise\u001b[0m \u001b[0mexceptions\u001b[0m\u001b[0;34m.\u001b[0m\u001b[0mDefaultCredentialsError\u001b[0m\u001b[0;34m(\u001b[0m\u001b[0m_HELP_MESSAGE\u001b[0m\u001b[0;34m)\u001b[0m\u001b[0;34m\u001b[0m\u001b[0;34m\u001b[0m\u001b[0m\n\u001b[0m",
      "\u001b[0;31mDefaultCredentialsError\u001b[0m: Could not automatically determine credentials. Please set GOOGLE_APPLICATION_CREDENTIALS or explicitly create credentials and re-run the application. For more information, please see https://cloud.google.com/docs/authentication/getting-started"
     ]
    }
   ],
   "source": [
    "logging_client = logging.Client()\n",
    "logger = logging_client.logger('CNMC_RSS')\n"
   ]
  },
  {
   "cell_type": "code",
   "execution_count": null,
   "metadata": {},
   "outputs": [],
   "source": [
    "logger.log_text('Comienza el script',severity='Info')\n",
    "logger.log_text('Importamos librerías',severity='Info')"
   ]
  },
  {
   "cell_type": "code",
   "execution_count": null,
   "metadata": {},
   "outputs": [],
   "source": [
    "import xml.etree.ElementTree as ET  \n",
    "import re\n",
    "import urllib3\n",
    "import pandas as pd\n",
    "import certifi\n",
    "from datetime import datetime,timedelta\n",
    "import pytz\n",
    "import smtplib\n",
    "import csv\n",
    "from email.mime.multipart import MIMEMultipart\n",
    "from email.mime.text import MIMEText\n",
    "from email.mime.image import MIMEImage\n",
    "from email.message import EmailMessage\n",
    "from email.headerregistry import Address\n",
    "from email.utils import make_msgid\n",
    "import sys\n",
    "import os.path\n",
    "import numpy as np\n",
    "sys.path.append(\"/Users/mharias/Documents/proyectos/mylibs\") # directorio de acceso a librerías auxiliares\n",
    "sys.path.append('/home/waly00/mylibs')\n",
    "from pass_rss_cncm import apikey_walyt,apisecretkey_walyt,AccessToken_walyt,AccessTokenSecret_walyt,token_bitly,sender_password,sender_email,sender_smtp,path_proyecto,path_proyecto_gcp\n",
    "\n",
    "from google.cloud import logging\n",
    "import html.parser as htmlparser\n",
    "import bitly_api\n",
    "import requests\n",
    "import json\n",
    "import html\n",
    "import twitter\n",
    "import sys"
   ]
  },
  {
   "cell_type": "code",
   "execution_count": null,
   "metadata": {},
   "outputs": [],
   "source": [
    "class RSS_cnmc():\n",
    "\n",
    "\n",
    "    def __init__(self,path_rss_,\n",
    "                 consumer_key_,\n",
    "               consumer_secret_,\n",
    "               access_token_key_,\n",
    "               access_token_secret_,\n",
    "                sender_email_,\n",
    "                 sender_password_,\n",
    "                 sender_smtp_,\n",
    "                path_proyecto):\n",
    "\n",
    "        self.rss = path_rss_\n",
    "        self.consumer_key=consumer_key_\n",
    "        self.consumer_secret=consumer_secret_\n",
    "        self.access_token_key=access_token_key_\n",
    "        self.access_token_secret=access_token_secret_\n",
    "        \n",
    "        self.sender_email = sender_email_\n",
    "        self.sender_password = sender_password_\n",
    "        self.sender_server = sender_smtp_\n",
    "        self.path_proyecto = path_proyecto\n",
    "\n",
    "        self.fuente = 'Servicio RSS de https://www.esios.ree.es'\n",
    "        self.autor = '@walyt'\n",
    "        self.formato_fecha = '%a, %d %b %Y %H:%M:%S %z'\n",
    "        return\n",
    "\n",
    "\n",
    "    def conversor_fecha(self,string_fecha):\n",
    "            fecha = datetime.strptime(string_fecha,self.formato_fecha)\n",
    "            return fecha\n",
    "\n",
    "\n",
    "    def load_rss(self):\n",
    "\n",
    "\n",
    "        url = self.rss\n",
    "        http = urllib3.PoolManager()\n",
    "        response = http.request('GET', url)\n",
    "        root = ET.fromstring(response.data)\n",
    "        \n",
    "        df_historico = pd.DataFrame()\n",
    "        \n",
    "        for entrada in root.findall('./channel/item'):\n",
    "            fecha = entrada.find('./pubDate').text\n",
    "            titulo = htmlparser.unescape(entrada.find('./title').text)\n",
    "            link = entrada.find('./link').text\n",
    "            guid = entrada.find('./guid').text\n",
    "            fecha = entrada.find('./pubDate').text\n",
    "            df_historico = df_historico.append({'titulo':titulo,\n",
    "                                                'enlace':link,\n",
    "                                                'guid':guid,\n",
    "                                                'fecha':fecha},\n",
    "                                                ignore_index=True)\n",
    "        self.historico = df_historico\n",
    "        return df_historico\n",
    "\n",
    "\n",
    "    def publicar_tweets(self,datos,desde_fecha=''):\n",
    "\n",
    "        api=twitter.Api(self.consumer_key,self.consumer_secret,self.access_token_key,self.access_token_secret,sleep_on_rate_limit=True)\n",
    "        headers = {\n",
    "            'Authorization': 'Bearer {}'.format(token_bitly),\n",
    "            'Content-Type': 'application/json',\n",
    "                    }\n",
    "        \n",
    "       \n",
    "\n",
    "        for entrada in datos.index:\n",
    "            data = '{ \"long_url\":\"' + '{}'.format(datos.loc[entrada,'enlace']) + '\",\"domain\": \"bit.ly\"}'\n",
    "            response = requests.post('https://api-ssl.bitly.com/v4/shorten', headers=headers, data=data)\n",
    "            enlace_corto = f\"http://{json.loads(response.text)['id']}\"\n",
    "            CR='\\n'\n",
    "            titulo = datos.loc[entrada,'titulo']\n",
    "            text1 = 'Noticias desde CNMC:'\n",
    "            text2='#cncm #telecomunicaciones'\n",
    "            text3 = 'Fuente https://www.cnmc.es/ambitos-de-actuacion/telecomunicaciones'\n",
    "            text3 ='Fuente feed RSS de CNMC Teleco'\n",
    "            texto=text1+CR+titulo+CR+f'enlace: {enlace_corto}'+CR+text3+CR+text2\n",
    "            if len(texto)>280:\n",
    "                len_titulo = len(titulo)\n",
    "                alt_titulo = titulo[:len_titulo-len(texto)+280-5]+'.'*5\n",
    "                texto=text1+CR+alt_titulo+CR+f'enlace: {enlace_corto}'+CR+text3+CR+text2\n",
    "            # print (f'{len(texto)}{texto}{CR*5}')\n",
    "            \n",
    "            estado = api.PostUpdate(texto)\n",
    "        return True\n",
    "        \n",
    "    \n",
    "    def enviar_tweet(self,texto):\n",
    "\n",
    "        api=twitter.Api(self.consumer_key,self.consumer_secret,self.access_token_key,self.access_token_secret,sleep_on_rate_limit=True)\n",
    "\n",
    "        estado = api.PostUpdate(texto,media=path_img)\n",
    "        return estado\n",
    "    \n",
    "    \n",
    "    def cuerpo_correo_noticias(self,df,nombre_empresa=''):\n",
    "        \n",
    "        rc='<br/>'\n",
    "        texto=rc+'Egun on, bo día, bon dia, buenos días:'+rc\n",
    "        texto+='Resumen de noticias de Telecomunicaciones publicadas en el portal de la CNMC {}'.format('https://www.cnmc.es/ambitos-de-actuacion/telecomunicaciones')\n",
    "        texto+=rc\n",
    "        \n",
    "        texto+='<p>'\n",
    "        texto+='*'*10\n",
    "        texto+=rc\n",
    "        for i in df.index:\n",
    "\n",
    "            texto+='<b>Título: </b>'+df.loc[i,'titulo']+rc\n",
    "            texto+='<b>Enlace :</b> {}'.format(df.loc[i,'enlace'])+rc\n",
    "            texto+='<p/>'\n",
    "        # Create the base text message.\n",
    "        mensaje = EmailMessage()\n",
    "        mensaje['Subject'] = \"Noticias CNMC Telecomunicaciones\"\n",
    "        mensaje['From'] = f'{nombre_empresa} datos'\n",
    "        mensaje['To'] = Address(f'{nombre_empresa}')\n",
    "\n",
    "        mensaje.set_content(\"\"\"\n",
    "            {text}\n",
    "            \"\"\".format(text=texto))\n",
    "        asparagus_cid = make_msgid()\n",
    "        mensaje.add_alternative(\"\"\"\n",
    "        <html>\n",
    "            <head></head>\n",
    "            <body>\n",
    "                <img src=\"cid:{asparagus_cid}\" />\n",
    "                <p>\n",
    "                    {text}\n",
    "                </p>\n",
    "\n",
    "            </body>\n",
    "        </html>\n",
    "        \"\"\".format(text=texto,asparagus_cid=asparagus_cid[1:-1]), subtype='html')\n",
    "        \n",
    "        path_logo = f'{self.path_proyecto}logos/{nombre_empresa}.png'\n",
    "        \n",
    "        if os.path.isfile(path_logo):\n",
    "            with open(path_logo, 'rb') as img:\n",
    "                mensaje.get_payload()[1].add_related(img.read(), 'image', 'png',\n",
    "                                         cid=asparagus_cid)\n",
    "        return mensaje\n",
    "    \n",
    "    def filtra_resultado(self, df, desde=1):\n",
    "        local = pytz.timezone('UTC')\n",
    "        hora_tope = local.localize(datetime.utcnow(),is_dst=None)-timedelta(days=desde)\n",
    "        if df.shape[0]!=0:\n",
    "            resultado = (df.\n",
    "                         loc[df.apply(lambda x: datetime.strptime(x['fecha'],self.formato_fecha) > hora_tope,axis=1),:])\n",
    "            return resultado\n",
    "        return df\n",
    "        \n",
    "    \n",
    "    \n",
    "    def send_mail(self,mensaje,lista,port=587):\n",
    "        if int(port) == 465:    # gmail server\n",
    "            email_server = smtplib.SMTP_SSL(self.sender_server, str(port))\n",
    "        else:\n",
    "            email_server = smtplib.SMTP(self.sender_server, port)\n",
    "            email_server.ehlo()\n",
    "            email_server.starttls()\n",
    "        email_server.login(self.sender_email,self.sender_password)\n",
    "        email_server.sendmail(self.sender_email,lista,mensaje.as_string())\n",
    "        email_server.quit()\n",
    "        "
   ]
  },
  {
   "cell_type": "code",
   "execution_count": null,
   "metadata": {},
   "outputs": [],
   "source": []
  },
  {
   "cell_type": "code",
   "execution_count": null,
   "metadata": {},
   "outputs": [],
   "source": [
    "#enlace_rss = 'https://www.cnmc.es/feed/telecomunicaciones'\n",
    "#path_proyecto = '/Users/mharias/documents/proyectos/concursos/'"
   ]
  },
  {
   "cell_type": "code",
   "execution_count": null,
   "metadata": {},
   "outputs": [],
   "source": [
    "robot = RSS_cnmc(enlace_rss,apikey_walyt,apisecretkey_walyt,AccessToken_walyt,\n",
    "              AccessTokenSecret_walyt,sender_email,sender_password,sender_smtp,path_proyecto)"
   ]
  },
  {
   "cell_type": "code",
   "execution_count": null,
   "metadata": {},
   "outputs": [],
   "source": [
    "df = robot.load_rss()\n"
   ]
  },
  {
   "cell_type": "code",
   "execution_count": null,
   "metadata": {},
   "outputs": [],
   "source": [
    "resultado = robot.filtra_resultado(df,desde=7)"
   ]
  },
  {
   "cell_type": "code",
   "execution_count": null,
   "metadata": {},
   "outputs": [],
   "source": [
    "if resultado.shape[0]!=0:\n",
    "    print ('Enviando correo')\n",
    "    mensaje_correo = robot.cuerpo_correo_noticias(df,nombre_empresa='evolutio')\n",
    "    robot.send_mail(mensaje_correo,'manuel.arias@evolutio.com',port=587)\n",
    "else:\n",
    "    print ('Nada que enviar')"
   ]
  },
  {
   "cell_type": "code",
   "execution_count": null,
   "metadata": {},
   "outputs": [],
   "source": [
    "if resultado.shape[0]!=0:\n",
    "    robot.publicar_tweets(resultado)"
   ]
  },
  {
   "cell_type": "code",
   "execution_count": null,
   "metadata": {},
   "outputs": [],
   "source": [
    "resultado"
   ]
  },
  {
   "cell_type": "code",
   "execution_count": null,
   "metadata": {},
   "outputs": [],
   "source": [
    "robot.send_mail(mensaje_correo,'manuel.arias@evolutio.com',port=587)"
   ]
  },
  {
   "cell_type": "code",
   "execution_count": null,
   "metadata": {},
   "outputs": [],
   "source": [
    "formato = '%a, %d %b %Y %H:%M:%S %z'"
   ]
  },
  {
   "cell_type": "code",
   "execution_count": null,
   "metadata": {},
   "outputs": [],
   "source": [
    "datetime.strptime(df.loc[0,'fecha'],'%a, %d %b %Y %H:%M:%S %z')"
   ]
  },
  {
   "cell_type": "code",
   "execution_count": null,
   "metadata": {},
   "outputs": [],
   "source": [
    "datetime.strptime(df.loc[0,'fecha'],formato) < local.localize(datetime.utcnow(),is_dst=None)"
   ]
  },
  {
   "cell_type": "code",
   "execution_count": null,
   "metadata": {},
   "outputs": [],
   "source": [
    "local = pytz.timezone('Europe/Madrid')\n",
    "local = pytz.timezone('UTC')"
   ]
  },
  {
   "cell_type": "code",
   "execution_count": null,
   "metadata": {},
   "outputs": [],
   "source": [
    "local.localize(datetime.utcnow(),is_dst=None)"
   ]
  },
  {
   "cell_type": "code",
   "execution_count": null,
   "metadata": {},
   "outputs": [],
   "source": [
    "robot.publicar_tweets(df)"
   ]
  },
  {
   "cell_type": "code",
   "execution_count": null,
   "metadata": {},
   "outputs": [],
   "source": [
    "enlace = 'https://www.cnmc.es/feed/telecomunicaciones'\n",
    "http = urllib3.PoolManager()\n",
    "response = http.request('GET', enlace)\n",
    "root = ET.fromstring(response.data)\n",
    "print (root.find('./channel/title').text)\n",
    "for entrada in root.findall('./channel/item'):\n",
    "    print (f\"-->{htmlparser.unescape(entrada.find('./title').text)}\")\n",
    "    print (f\"--> {entrada.find('./link').text}\")\n",
    "    print (f\"-->{entrada.find('./guid').text}\")\n",
    "    fecha = entrada.find('./pubDate').text\n",
    "    print (f\"-->{entrada.find('./pubDate').text}\\n\\n\")\n",
    "    #print (f\"--> {entrada.find('./category').text}\")\n",
    "    #print (f\"-->{htmlparser.unescape(entrada.find('./description').text)}\\n\\n\")\n"
   ]
  },
  {
   "cell_type": "code",
   "execution_count": null,
   "metadata": {},
   "outputs": [],
   "source": [
    "pd.read_xml(root)"
   ]
  },
  {
   "cell_type": "code",
   "execution_count": null,
   "metadata": {},
   "outputs": [],
   "source": [
    "pd.__version__"
   ]
  },
  {
   "cell_type": "code",
   "execution_count": null,
   "metadata": {},
   "outputs": [],
   "source": [
    "df"
   ]
  },
  {
   "cell_type": "code",
   "execution_count": null,
   "metadata": {},
   "outputs": [],
   "source": [
    "df[datetime.strptime(df.loc[0,'fecha'],formato) < local.localize(datetime.utcnow(),is_dst=None)"
   ]
  },
  {
   "cell_type": "code",
   "execution_count": null,
   "metadata": {},
   "outputs": [],
   "source": [
    "hora_tope = local.localize(datetime.utcnow(),is_dst=None)-timedelta(days=1)"
   ]
  },
  {
   "cell_type": "code",
   "execution_count": null,
   "metadata": {},
   "outputs": [],
   "source": [
    "resultado = df.loc[df.apply(lambda x: datetime.strptime(x['fecha'],formato) > hora_tope,axis=1),:]"
   ]
  },
  {
   "cell_type": "code",
   "execution_count": null,
   "metadata": {},
   "outputs": [],
   "source": [
    "resultado.shape[0]"
   ]
  },
  {
   "cell_type": "code",
   "execution_count": null,
   "metadata": {},
   "outputs": [],
   "source": []
  }
 ],
 "metadata": {
  "kernelspec": {
   "display_name": "Python 3",
   "language": "python",
   "name": "python3"
  },
  "language_info": {
   "codemirror_mode": {
    "name": "ipython",
    "version": 3
   },
   "file_extension": ".py",
   "mimetype": "text/x-python",
   "name": "python",
   "nbconvert_exporter": "python",
   "pygments_lexer": "ipython3",
   "version": "3.8.5"
  }
 },
 "nbformat": 4,
 "nbformat_minor": 4
}
